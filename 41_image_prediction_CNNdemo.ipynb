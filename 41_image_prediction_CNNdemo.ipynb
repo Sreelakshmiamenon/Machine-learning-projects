{
  "nbformat": 4,
  "nbformat_minor": 0,
  "metadata": {
    "colab": {
      "provenance": [],
      "authorship_tag": "ABX9TyP/R7sJLrSPzIAAfMrW6MpR",
      "include_colab_link": true
    },
    "kernelspec": {
      "name": "python3",
      "display_name": "Python 3"
    },
    "language_info": {
      "name": "python"
    }
  },
  "cells": [
    {
      "cell_type": "markdown",
      "metadata": {
        "id": "view-in-github",
        "colab_type": "text"
      },
      "source": [
        "<a href=\"https://colab.research.google.com/github/Sreelakshmiamenon/Machine-learning-projects/blob/main/41_image_prediction_CNNdemo.ipynb\" target=\"_parent\"><img src=\"https://colab.research.google.com/assets/colab-badge.svg\" alt=\"Open In Colab\"/></a>"
      ]
    },
    {
      "cell_type": "code",
      "execution_count": null,
      "metadata": {
        "id": "0-lK8_CiFJau"
      },
      "outputs": [],
      "source": [
        "#Drive mount\n",
        "from google.colab import drive"
      ]
    },
    {
      "cell_type": "code",
      "source": [
        "drive.mount('/content/drive')"
      ],
      "metadata": {
        "colab": {
          "base_uri": "https://localhost:8080/"
        },
        "id": "-YDvTij9FUl5",
        "outputId": "74d593a5-9b9a-4e98-cc5d-2793a8603902"
      },
      "execution_count": null,
      "outputs": [
        {
          "output_type": "stream",
          "name": "stdout",
          "text": [
            "Mounted at /content/drive\n"
          ]
        }
      ]
    },
    {
      "cell_type": "code",
      "source": [
        "import pandas as pd\n",
        "from sklearn.svm import SVC\n",
        "import numpy as np\n",
        "import matplotlib.pyplot as plt\n",
        "import os   #define the path of file and directory\n",
        "from skimage.io import imread   #used for reading images\n",
        "from sklearn.model_selection import train_test_split\n",
        "from skimage.transform import resize"
      ],
      "metadata": {
        "id": "DUo_SMvqF8Kq"
      },
      "execution_count": null,
      "outputs": []
    },
    {
      "cell_type": "code",
      "source": [
        "os.listdir('/content/drive/MyDrive/Data')\n",
        "#listing the directory data"
      ],
      "metadata": {
        "colab": {
          "base_uri": "https://localhost:8080/"
        },
        "id": "gH6C3zmfHtEC",
        "outputId": "58c857ac-5664-4d1f-fcd8-d627fd72e987"
      },
      "execution_count": null,
      "outputs": [
        {
          "output_type": "execute_result",
          "data": {
            "text/plain": [
              "['Cat', 'Dog']"
            ]
          },
          "metadata": {},
          "execution_count": 4
        }
      ]
    },
    {
      "cell_type": "code",
      "source": [
        "len(os.listdir('/content/drive/MyDrive/Data/Cat')) #length of list of directory cat"
      ],
      "metadata": {
        "colab": {
          "base_uri": "https://localhost:8080/"
        },
        "id": "8TvRFQeUJ7Ei",
        "outputId": "26be1aec-adf3-4d76-a987-cc154ea6d810"
      },
      "execution_count": null,
      "outputs": [
        {
          "output_type": "execute_result",
          "data": {
            "text/plain": [
              "85"
            ]
          },
          "metadata": {},
          "execution_count": 5
        }
      ]
    },
    {
      "cell_type": "code",
      "source": [
        "len(os.listdir('/content/drive/MyDrive/Data/Dog')) #length of list of directory dog"
      ],
      "metadata": {
        "colab": {
          "base_uri": "https://localhost:8080/"
        },
        "id": "DG-zJyzSJ9ak",
        "outputId": "0ebc3725-a641-49f0-db5a-15c19390c53f"
      },
      "execution_count": null,
      "outputs": [
        {
          "output_type": "execute_result",
          "data": {
            "text/plain": [
              "68"
            ]
          },
          "metadata": {},
          "execution_count": 6
        }
      ]
    },
    {
      "cell_type": "code",
      "source": [
        "#path of cat directory is given to a variable catpath\n",
        "catpath=os.path.join('/content/drive/MyDrive/Data','Cat')\n",
        "for img in os.listdir(catpath):\n",
        "  print(img)"
      ],
      "metadata": {
        "colab": {
          "base_uri": "https://localhost:8080/"
        },
        "id": "itIM8nB0KDKi",
        "outputId": "1be1aaed-57fd-45eb-adc3-4e2b396cb4ef"
      },
      "execution_count": null,
      "outputs": [
        {
          "output_type": "stream",
          "name": "stdout",
          "text": [
            "cat.82.jpg\n",
            "cat.67.jpg\n",
            "cat.98.jpg\n",
            "cat.87.jpg\n",
            "cat.90.jpg\n",
            "cat.64.jpg\n",
            "cat.84.jpg\n",
            "cat.77.jpg\n",
            "cat.68.jpg\n",
            "cat.89.jpg\n",
            "cat.76.jpg\n",
            "cat.91.jpg\n",
            "cat.97.jpg\n",
            "cat.44.jpg\n",
            "cat.78.jpg\n",
            "cat.73.jpg\n",
            "cat.70.jpg\n",
            "cat.79.jpg\n",
            "cat.86.jpg\n",
            "cat.88.jpg\n",
            "cat.65.jpg\n",
            "cat.40.jpg\n",
            "cat.81.jpg\n",
            "cat.71.jpg\n",
            "cat.72.jpg\n",
            "cat.99.jpg\n",
            "cat.75.jpg\n",
            "cat.80.jpg\n",
            "cat.96.jpg\n",
            "cat.83.jpg\n",
            "cat.93.jpg\n",
            "cat.36.jpg\n",
            "cat.41.jpg\n",
            "cat.116.jpg\n",
            "cat.112.jpg\n",
            "cat.45.jpg\n",
            "cat.62.jpg\n",
            "cat.113.jpg\n",
            "cat.119.jpg\n",
            "cat.74.jpg\n",
            "cat.110.jpg\n",
            "cat.46.jpg\n",
            "cat.58.jpg\n",
            "cat.42.jpg\n",
            "cat.118.jpg\n",
            "cat.54.jpg\n",
            "cat.57.jpg\n",
            "cat.102.jpg\n",
            "cat.107.jpg\n",
            "cat.38.jpg\n",
            "cat.60.jpg\n",
            "cat.56.jpg\n",
            "cat.61.jpg\n",
            "cat.39.jpg\n",
            "cat.95.jpg\n",
            "cat.49.jpg\n",
            "cat.59.jpg\n",
            "cat.52.jpg\n",
            "cat.114.jpg\n",
            "cat.94.jpg\n",
            "cat.92.jpg\n",
            "cat.101.jpg\n",
            "cat.55.jpg\n",
            "cat.66.jpg\n",
            "cat.69.jpg\n",
            "cat.35.jpg\n",
            "cat.50.jpg\n",
            "cat.100.jpg\n",
            "cat.53.jpg\n",
            "cat.37.jpg\n",
            "cat.117.jpg\n",
            "cat.48.jpg\n",
            "cat.43.jpg\n",
            "cat.47.jpg\n",
            "cat.51.jpg\n",
            "cat.63.jpg\n",
            "cat.85.jpg\n",
            "cat.111.jpg\n",
            "cat.109.jpg\n",
            "cat.106.jpg\n",
            "cat.108.jpg\n",
            "cat.115.jpg\n",
            "cat.103.jpg\n",
            "cat.104.jpg\n",
            "cat.105.jpg\n"
          ]
        }
      ]
    },
    {
      "cell_type": "code",
      "source": [
        "dogpath=os.path.join('/content/drive/MyDrive/Data','Dog')\n",
        "for img in os.listdir(dogpath):\n",
        "  print(img)"
      ],
      "metadata": {
        "colab": {
          "base_uri": "https://localhost:8080/"
        },
        "id": "pz_BbRMXKGVj",
        "outputId": "46126127-51e5-4f07-d7d4-d5b5c3ab0efa"
      },
      "execution_count": null,
      "outputs": [
        {
          "output_type": "stream",
          "name": "stdout",
          "text": [
            "dog.6.jpg\n",
            "dog.49.jpg\n",
            "dog.31.jpg\n",
            "dog.8.jpg\n",
            "dog.2.jpg\n",
            "dog.23.jpg\n",
            "dog.37.jpg\n",
            "dog.47.jpg\n",
            "dog.57.jpg\n",
            "dog.22.jpg\n",
            "dog.3.jpg\n",
            "dog.62.jpg\n",
            "dog.30.jpg\n",
            "dog.7.jpg\n",
            "dog.68.jpg\n",
            "dog.44.jpg\n",
            "dog.32.jpg\n",
            "dog.67.jpg\n",
            "dog.40.jpg\n",
            "dog.46.jpg\n",
            "dog.61.jpg\n",
            "dog.36.jpg\n",
            "dog.60.jpg\n",
            "dog.45.jpg\n",
            "dog.58.jpg\n",
            "dog.51.jpg\n",
            "dog.42.jpg\n",
            "dog.29.jpg\n",
            "dog.41.jpg\n",
            "dog.38.jpg\n",
            "dog.63.jpg\n",
            "dog.18.jpg\n",
            "dog.34.jpg\n",
            "dog.64.jpg\n",
            "dog.9.jpg\n",
            "dog.27.jpg\n",
            "dog.59.jpg\n",
            "dog.48.jpg\n",
            "dog.39.jpg\n",
            "dog.4.jpg\n",
            "dog.50.jpg\n",
            "dog.28.jpg\n",
            "dog.66.jpg\n",
            "dog.43.jpg\n",
            "dog.5.jpg\n",
            "dog.53.jpg\n",
            "dog.26.jpg\n",
            "dog.65.jpg\n",
            "dog.55.jpg\n",
            "dog.12.jpg\n",
            "dog.33.jpg\n",
            "dog.11.jpg\n",
            "dog.15.jpg\n",
            "dog.24.jpg\n",
            "dog.21.jpg\n",
            "dog.16.jpg\n",
            "dog.14.jpg\n",
            "dog.54.jpg\n",
            "dog.20.jpg\n",
            "dog.35.jpg\n",
            "dog.17.jpg\n",
            "dog.19.jpg\n",
            "dog.56.jpg\n",
            "dog.1.jpg\n",
            "dog.13.jpg\n",
            "dog.52.jpg\n",
            "dog.10.jpg\n",
            "dog.25.jpg\n"
          ]
        }
      ]
    },
    {
      "cell_type": "code",
      "source": [
        "flat_data_arr=[] # Used for collecting input data\n",
        "target_arr=[] # Used for collecting output data\n",
        "categories=['Cat','Dog']\n",
        "datadir='/content/drive/MyDrive/Data'"
      ],
      "metadata": {
        "id": "wXRaPjc9KIrE"
      },
      "execution_count": null,
      "outputs": []
    },
    {
      "cell_type": "code",
      "source": [
        "for i in categories: #Cat\n",
        "  print(\"Loading categories\")\n",
        "  path=os.path.join(datadir,i) #/content/drive/MyDrive/Data,Cat\n",
        "  for img in os.listdir(path): #for j in os.listdir(path):\n",
        "    img_arr=imread(os.path.join(path,img)) # imread(os.path.join(path,img))\n",
        "    img_resize=resize(img_arr,(150,150,3)) #RGB\n",
        "    flat_data_arr.append(img_resize.flatten())\n",
        "    target_arr.append(categories.index(i)) # 0 ==> cat  1 ==> dog\n",
        "  print(\"Loaded completely\",i)"
      ],
      "metadata": {
        "colab": {
          "base_uri": "https://localhost:8080/"
        },
        "id": "-NbFnEzXKLKH",
        "outputId": "90fc0a42-9254-4ae0-bcc9-2b533d6998bf"
      },
      "execution_count": null,
      "outputs": [
        {
          "output_type": "stream",
          "name": "stdout",
          "text": [
            "Loading categories\n",
            "Loaded completely Cat\n",
            "Loading categories\n",
            "Loaded completely Dog\n"
          ]
        }
      ]
    },
    {
      "cell_type": "code",
      "source": [
        "flat_data=np.array(flat_data_arr)\n",
        "target_data= np.array(target_arr)\n",
        "df=pd.DataFrame(flat_data)\n",
        "df"
      ],
      "metadata": {
        "colab": {
          "base_uri": "https://localhost:8080/",
          "height": 443
        },
        "id": "m9872D93KNax",
        "outputId": "3f07c397-cf17-4241-bc0f-c732691e2aa5"
      },
      "execution_count": null,
      "outputs": [
        {
          "output_type": "execute_result",
          "data": {
            "text/plain": [
              "        0         1         2         3         4         5         6      \\\n",
              "0    0.478295  0.474374  0.497903  0.477381  0.473460  0.496989  0.491041   \n",
              "1    0.746801  0.664834  0.570610  0.768159  0.669622  0.570784  0.766071   \n",
              "2    0.039443  0.035538  0.015258  0.036979  0.033074  0.013246  0.031539   \n",
              "3    0.094118  0.094118  0.086275  0.094118  0.094118  0.086275  0.094118   \n",
              "4    0.267715  0.216751  0.142193  0.271836  0.223559  0.140938  0.275575   \n",
              "..        ...       ...       ...       ...       ...       ...       ...   \n",
              "148  0.768130  0.691507  0.619205  0.562160  0.443307  0.340889  0.623372   \n",
              "149  0.615686  0.647059  0.658824  0.615686  0.647059  0.658824  0.615686   \n",
              "150  0.197998  0.201073  0.142554  0.200468  0.174041  0.135699  0.225444   \n",
              "151  0.562609  0.466070  0.253184  0.531096  0.417403  0.202458  0.519534   \n",
              "152  0.008784  0.081797  0.003346  0.041734  0.105453  0.029321  0.048398   \n",
              "\n",
              "        7         8         9      ...     67490     67491     67492  \\\n",
              "0    0.487119  0.510649  0.499533  ...  0.544947  0.576333  0.541039   \n",
              "1    0.672205  0.569096  0.722603  ...  0.414763  0.622804  0.523688   \n",
              "2    0.027634  0.007980  0.029253  ...  0.055645  0.121042  0.123941   \n",
              "3    0.094118  0.086275  0.094117  ...  0.413832  0.417687  0.416508   \n",
              "4    0.228515  0.139966  0.278628  ...  0.149317  0.210044  0.202201   \n",
              "..        ...       ...       ...  ...       ...       ...       ...   \n",
              "148  0.472422  0.342538  0.606955  ...  0.908014  0.953688  0.958069   \n",
              "149  0.647059  0.658824  0.615648  ...  0.154498  0.376526  0.085354   \n",
              "150  0.176508  0.160004  0.222726  ...  0.044325  0.075294  0.118756   \n",
              "151  0.393667  0.170831  0.488835  ...  0.310426  0.389573  0.366044   \n",
              "152  0.092893  0.028838  0.081621  ...  0.042053  0.384837  0.333710   \n",
              "\n",
              "        67493     67494     67495     67496     67497     67498     67499  \n",
              "0    0.544960  0.562095  0.526801  0.530722  0.541868  0.506574  0.510496  \n",
              "1    0.484664  0.575169  0.504724  0.476907  0.572680  0.513406  0.485966  \n",
              "2    0.080575  0.145913  0.145928  0.098878  0.155355  0.155355  0.108296  \n",
              "3    0.406373  0.387455  0.390984  0.381789  0.370306  0.371310  0.369780  \n",
              "4    0.155142  0.201097  0.193254  0.146195  0.200142  0.192299  0.145240  \n",
              "..        ...       ...       ...       ...       ...       ...       ...  \n",
              "148  0.897416  0.957814  0.962249  0.901571  0.950053  0.954488  0.893809  \n",
              "149  0.136334  0.392032  0.101926  0.152860  0.405295  0.116949  0.167004  \n",
              "150  0.027206  0.200934  0.184395  0.108955  0.400372  0.305795  0.248824  \n",
              "151  0.318985  0.392066  0.368537  0.321478  0.393571  0.370042  0.322983  \n",
              "152  0.030124  0.388362  0.344401  0.031503  0.377621  0.327669  0.020758  \n",
              "\n",
              "[153 rows x 67500 columns]"
            ],
            "text/html": [
              "\n",
              "  <div id=\"df-108f0c8b-314e-4d2f-8afa-60995acb2a40\" class=\"colab-df-container\">\n",
              "    <div>\n",
              "<style scoped>\n",
              "    .dataframe tbody tr th:only-of-type {\n",
              "        vertical-align: middle;\n",
              "    }\n",
              "\n",
              "    .dataframe tbody tr th {\n",
              "        vertical-align: top;\n",
              "    }\n",
              "\n",
              "    .dataframe thead th {\n",
              "        text-align: right;\n",
              "    }\n",
              "</style>\n",
              "<table border=\"1\" class=\"dataframe\">\n",
              "  <thead>\n",
              "    <tr style=\"text-align: right;\">\n",
              "      <th></th>\n",
              "      <th>0</th>\n",
              "      <th>1</th>\n",
              "      <th>2</th>\n",
              "      <th>3</th>\n",
              "      <th>4</th>\n",
              "      <th>5</th>\n",
              "      <th>6</th>\n",
              "      <th>7</th>\n",
              "      <th>8</th>\n",
              "      <th>9</th>\n",
              "      <th>...</th>\n",
              "      <th>67490</th>\n",
              "      <th>67491</th>\n",
              "      <th>67492</th>\n",
              "      <th>67493</th>\n",
              "      <th>67494</th>\n",
              "      <th>67495</th>\n",
              "      <th>67496</th>\n",
              "      <th>67497</th>\n",
              "      <th>67498</th>\n",
              "      <th>67499</th>\n",
              "    </tr>\n",
              "  </thead>\n",
              "  <tbody>\n",
              "    <tr>\n",
              "      <th>0</th>\n",
              "      <td>0.478295</td>\n",
              "      <td>0.474374</td>\n",
              "      <td>0.497903</td>\n",
              "      <td>0.477381</td>\n",
              "      <td>0.473460</td>\n",
              "      <td>0.496989</td>\n",
              "      <td>0.491041</td>\n",
              "      <td>0.487119</td>\n",
              "      <td>0.510649</td>\n",
              "      <td>0.499533</td>\n",
              "      <td>...</td>\n",
              "      <td>0.544947</td>\n",
              "      <td>0.576333</td>\n",
              "      <td>0.541039</td>\n",
              "      <td>0.544960</td>\n",
              "      <td>0.562095</td>\n",
              "      <td>0.526801</td>\n",
              "      <td>0.530722</td>\n",
              "      <td>0.541868</td>\n",
              "      <td>0.506574</td>\n",
              "      <td>0.510496</td>\n",
              "    </tr>\n",
              "    <tr>\n",
              "      <th>1</th>\n",
              "      <td>0.746801</td>\n",
              "      <td>0.664834</td>\n",
              "      <td>0.570610</td>\n",
              "      <td>0.768159</td>\n",
              "      <td>0.669622</td>\n",
              "      <td>0.570784</td>\n",
              "      <td>0.766071</td>\n",
              "      <td>0.672205</td>\n",
              "      <td>0.569096</td>\n",
              "      <td>0.722603</td>\n",
              "      <td>...</td>\n",
              "      <td>0.414763</td>\n",
              "      <td>0.622804</td>\n",
              "      <td>0.523688</td>\n",
              "      <td>0.484664</td>\n",
              "      <td>0.575169</td>\n",
              "      <td>0.504724</td>\n",
              "      <td>0.476907</td>\n",
              "      <td>0.572680</td>\n",
              "      <td>0.513406</td>\n",
              "      <td>0.485966</td>\n",
              "    </tr>\n",
              "    <tr>\n",
              "      <th>2</th>\n",
              "      <td>0.039443</td>\n",
              "      <td>0.035538</td>\n",
              "      <td>0.015258</td>\n",
              "      <td>0.036979</td>\n",
              "      <td>0.033074</td>\n",
              "      <td>0.013246</td>\n",
              "      <td>0.031539</td>\n",
              "      <td>0.027634</td>\n",
              "      <td>0.007980</td>\n",
              "      <td>0.029253</td>\n",
              "      <td>...</td>\n",
              "      <td>0.055645</td>\n",
              "      <td>0.121042</td>\n",
              "      <td>0.123941</td>\n",
              "      <td>0.080575</td>\n",
              "      <td>0.145913</td>\n",
              "      <td>0.145928</td>\n",
              "      <td>0.098878</td>\n",
              "      <td>0.155355</td>\n",
              "      <td>0.155355</td>\n",
              "      <td>0.108296</td>\n",
              "    </tr>\n",
              "    <tr>\n",
              "      <th>3</th>\n",
              "      <td>0.094118</td>\n",
              "      <td>0.094118</td>\n",
              "      <td>0.086275</td>\n",
              "      <td>0.094118</td>\n",
              "      <td>0.094118</td>\n",
              "      <td>0.086275</td>\n",
              "      <td>0.094118</td>\n",
              "      <td>0.094118</td>\n",
              "      <td>0.086275</td>\n",
              "      <td>0.094117</td>\n",
              "      <td>...</td>\n",
              "      <td>0.413832</td>\n",
              "      <td>0.417687</td>\n",
              "      <td>0.416508</td>\n",
              "      <td>0.406373</td>\n",
              "      <td>0.387455</td>\n",
              "      <td>0.390984</td>\n",
              "      <td>0.381789</td>\n",
              "      <td>0.370306</td>\n",
              "      <td>0.371310</td>\n",
              "      <td>0.369780</td>\n",
              "    </tr>\n",
              "    <tr>\n",
              "      <th>4</th>\n",
              "      <td>0.267715</td>\n",
              "      <td>0.216751</td>\n",
              "      <td>0.142193</td>\n",
              "      <td>0.271836</td>\n",
              "      <td>0.223559</td>\n",
              "      <td>0.140938</td>\n",
              "      <td>0.275575</td>\n",
              "      <td>0.228515</td>\n",
              "      <td>0.139966</td>\n",
              "      <td>0.278628</td>\n",
              "      <td>...</td>\n",
              "      <td>0.149317</td>\n",
              "      <td>0.210044</td>\n",
              "      <td>0.202201</td>\n",
              "      <td>0.155142</td>\n",
              "      <td>0.201097</td>\n",
              "      <td>0.193254</td>\n",
              "      <td>0.146195</td>\n",
              "      <td>0.200142</td>\n",
              "      <td>0.192299</td>\n",
              "      <td>0.145240</td>\n",
              "    </tr>\n",
              "    <tr>\n",
              "      <th>...</th>\n",
              "      <td>...</td>\n",
              "      <td>...</td>\n",
              "      <td>...</td>\n",
              "      <td>...</td>\n",
              "      <td>...</td>\n",
              "      <td>...</td>\n",
              "      <td>...</td>\n",
              "      <td>...</td>\n",
              "      <td>...</td>\n",
              "      <td>...</td>\n",
              "      <td>...</td>\n",
              "      <td>...</td>\n",
              "      <td>...</td>\n",
              "      <td>...</td>\n",
              "      <td>...</td>\n",
              "      <td>...</td>\n",
              "      <td>...</td>\n",
              "      <td>...</td>\n",
              "      <td>...</td>\n",
              "      <td>...</td>\n",
              "      <td>...</td>\n",
              "    </tr>\n",
              "    <tr>\n",
              "      <th>148</th>\n",
              "      <td>0.768130</td>\n",
              "      <td>0.691507</td>\n",
              "      <td>0.619205</td>\n",
              "      <td>0.562160</td>\n",
              "      <td>0.443307</td>\n",
              "      <td>0.340889</td>\n",
              "      <td>0.623372</td>\n",
              "      <td>0.472422</td>\n",
              "      <td>0.342538</td>\n",
              "      <td>0.606955</td>\n",
              "      <td>...</td>\n",
              "      <td>0.908014</td>\n",
              "      <td>0.953688</td>\n",
              "      <td>0.958069</td>\n",
              "      <td>0.897416</td>\n",
              "      <td>0.957814</td>\n",
              "      <td>0.962249</td>\n",
              "      <td>0.901571</td>\n",
              "      <td>0.950053</td>\n",
              "      <td>0.954488</td>\n",
              "      <td>0.893809</td>\n",
              "    </tr>\n",
              "    <tr>\n",
              "      <th>149</th>\n",
              "      <td>0.615686</td>\n",
              "      <td>0.647059</td>\n",
              "      <td>0.658824</td>\n",
              "      <td>0.615686</td>\n",
              "      <td>0.647059</td>\n",
              "      <td>0.658824</td>\n",
              "      <td>0.615686</td>\n",
              "      <td>0.647059</td>\n",
              "      <td>0.658824</td>\n",
              "      <td>0.615648</td>\n",
              "      <td>...</td>\n",
              "      <td>0.154498</td>\n",
              "      <td>0.376526</td>\n",
              "      <td>0.085354</td>\n",
              "      <td>0.136334</td>\n",
              "      <td>0.392032</td>\n",
              "      <td>0.101926</td>\n",
              "      <td>0.152860</td>\n",
              "      <td>0.405295</td>\n",
              "      <td>0.116949</td>\n",
              "      <td>0.167004</td>\n",
              "    </tr>\n",
              "    <tr>\n",
              "      <th>150</th>\n",
              "      <td>0.197998</td>\n",
              "      <td>0.201073</td>\n",
              "      <td>0.142554</td>\n",
              "      <td>0.200468</td>\n",
              "      <td>0.174041</td>\n",
              "      <td>0.135699</td>\n",
              "      <td>0.225444</td>\n",
              "      <td>0.176508</td>\n",
              "      <td>0.160004</td>\n",
              "      <td>0.222726</td>\n",
              "      <td>...</td>\n",
              "      <td>0.044325</td>\n",
              "      <td>0.075294</td>\n",
              "      <td>0.118756</td>\n",
              "      <td>0.027206</td>\n",
              "      <td>0.200934</td>\n",
              "      <td>0.184395</td>\n",
              "      <td>0.108955</td>\n",
              "      <td>0.400372</td>\n",
              "      <td>0.305795</td>\n",
              "      <td>0.248824</td>\n",
              "    </tr>\n",
              "    <tr>\n",
              "      <th>151</th>\n",
              "      <td>0.562609</td>\n",
              "      <td>0.466070</td>\n",
              "      <td>0.253184</td>\n",
              "      <td>0.531096</td>\n",
              "      <td>0.417403</td>\n",
              "      <td>0.202458</td>\n",
              "      <td>0.519534</td>\n",
              "      <td>0.393667</td>\n",
              "      <td>0.170831</td>\n",
              "      <td>0.488835</td>\n",
              "      <td>...</td>\n",
              "      <td>0.310426</td>\n",
              "      <td>0.389573</td>\n",
              "      <td>0.366044</td>\n",
              "      <td>0.318985</td>\n",
              "      <td>0.392066</td>\n",
              "      <td>0.368537</td>\n",
              "      <td>0.321478</td>\n",
              "      <td>0.393571</td>\n",
              "      <td>0.370042</td>\n",
              "      <td>0.322983</td>\n",
              "    </tr>\n",
              "    <tr>\n",
              "      <th>152</th>\n",
              "      <td>0.008784</td>\n",
              "      <td>0.081797</td>\n",
              "      <td>0.003346</td>\n",
              "      <td>0.041734</td>\n",
              "      <td>0.105453</td>\n",
              "      <td>0.029321</td>\n",
              "      <td>0.048398</td>\n",
              "      <td>0.092893</td>\n",
              "      <td>0.028838</td>\n",
              "      <td>0.081621</td>\n",
              "      <td>...</td>\n",
              "      <td>0.042053</td>\n",
              "      <td>0.384837</td>\n",
              "      <td>0.333710</td>\n",
              "      <td>0.030124</td>\n",
              "      <td>0.388362</td>\n",
              "      <td>0.344401</td>\n",
              "      <td>0.031503</td>\n",
              "      <td>0.377621</td>\n",
              "      <td>0.327669</td>\n",
              "      <td>0.020758</td>\n",
              "    </tr>\n",
              "  </tbody>\n",
              "</table>\n",
              "<p>153 rows × 67500 columns</p>\n",
              "</div>\n",
              "    <div class=\"colab-df-buttons\">\n",
              "\n",
              "  <div class=\"colab-df-container\">\n",
              "    <button class=\"colab-df-convert\" onclick=\"convertToInteractive('df-108f0c8b-314e-4d2f-8afa-60995acb2a40')\"\n",
              "            title=\"Convert this dataframe to an interactive table.\"\n",
              "            style=\"display:none;\">\n",
              "\n",
              "  <svg xmlns=\"http://www.w3.org/2000/svg\" height=\"24px\" viewBox=\"0 -960 960 960\">\n",
              "    <path d=\"M120-120v-720h720v720H120Zm60-500h600v-160H180v160Zm220 220h160v-160H400v160Zm0 220h160v-160H400v160ZM180-400h160v-160H180v160Zm440 0h160v-160H620v160ZM180-180h160v-160H180v160Zm440 0h160v-160H620v160Z\"/>\n",
              "  </svg>\n",
              "    </button>\n",
              "\n",
              "  <style>\n",
              "    .colab-df-container {\n",
              "      display:flex;\n",
              "      gap: 12px;\n",
              "    }\n",
              "\n",
              "    .colab-df-convert {\n",
              "      background-color: #E8F0FE;\n",
              "      border: none;\n",
              "      border-radius: 50%;\n",
              "      cursor: pointer;\n",
              "      display: none;\n",
              "      fill: #1967D2;\n",
              "      height: 32px;\n",
              "      padding: 0 0 0 0;\n",
              "      width: 32px;\n",
              "    }\n",
              "\n",
              "    .colab-df-convert:hover {\n",
              "      background-color: #E2EBFA;\n",
              "      box-shadow: 0px 1px 2px rgba(60, 64, 67, 0.3), 0px 1px 3px 1px rgba(60, 64, 67, 0.15);\n",
              "      fill: #174EA6;\n",
              "    }\n",
              "\n",
              "    .colab-df-buttons div {\n",
              "      margin-bottom: 4px;\n",
              "    }\n",
              "\n",
              "    [theme=dark] .colab-df-convert {\n",
              "      background-color: #3B4455;\n",
              "      fill: #D2E3FC;\n",
              "    }\n",
              "\n",
              "    [theme=dark] .colab-df-convert:hover {\n",
              "      background-color: #434B5C;\n",
              "      box-shadow: 0px 1px 3px 1px rgba(0, 0, 0, 0.15);\n",
              "      filter: drop-shadow(0px 1px 2px rgba(0, 0, 0, 0.3));\n",
              "      fill: #FFFFFF;\n",
              "    }\n",
              "  </style>\n",
              "\n",
              "    <script>\n",
              "      const buttonEl =\n",
              "        document.querySelector('#df-108f0c8b-314e-4d2f-8afa-60995acb2a40 button.colab-df-convert');\n",
              "      buttonEl.style.display =\n",
              "        google.colab.kernel.accessAllowed ? 'block' : 'none';\n",
              "\n",
              "      async function convertToInteractive(key) {\n",
              "        const element = document.querySelector('#df-108f0c8b-314e-4d2f-8afa-60995acb2a40');\n",
              "        const dataTable =\n",
              "          await google.colab.kernel.invokeFunction('convertToInteractive',\n",
              "                                                    [key], {});\n",
              "        if (!dataTable) return;\n",
              "\n",
              "        const docLinkHtml = 'Like what you see? Visit the ' +\n",
              "          '<a target=\"_blank\" href=https://colab.research.google.com/notebooks/data_table.ipynb>data table notebook</a>'\n",
              "          + ' to learn more about interactive tables.';\n",
              "        element.innerHTML = '';\n",
              "        dataTable['output_type'] = 'display_data';\n",
              "        await google.colab.output.renderOutput(dataTable, element);\n",
              "        const docLink = document.createElement('div');\n",
              "        docLink.innerHTML = docLinkHtml;\n",
              "        element.appendChild(docLink);\n",
              "      }\n",
              "    </script>\n",
              "  </div>\n",
              "\n",
              "\n",
              "<div id=\"df-188a9c1e-e50b-4f02-a555-b4f8a5d955be\">\n",
              "  <button class=\"colab-df-quickchart\" onclick=\"quickchart('df-188a9c1e-e50b-4f02-a555-b4f8a5d955be')\"\n",
              "            title=\"Suggest charts\"\n",
              "            style=\"display:none;\">\n",
              "\n",
              "<svg xmlns=\"http://www.w3.org/2000/svg\" height=\"24px\"viewBox=\"0 0 24 24\"\n",
              "     width=\"24px\">\n",
              "    <g>\n",
              "        <path d=\"M19 3H5c-1.1 0-2 .9-2 2v14c0 1.1.9 2 2 2h14c1.1 0 2-.9 2-2V5c0-1.1-.9-2-2-2zM9 17H7v-7h2v7zm4 0h-2V7h2v10zm4 0h-2v-4h2v4z\"/>\n",
              "    </g>\n",
              "</svg>\n",
              "  </button>\n",
              "\n",
              "<style>\n",
              "  .colab-df-quickchart {\n",
              "      --bg-color: #E8F0FE;\n",
              "      --fill-color: #1967D2;\n",
              "      --hover-bg-color: #E2EBFA;\n",
              "      --hover-fill-color: #174EA6;\n",
              "      --disabled-fill-color: #AAA;\n",
              "      --disabled-bg-color: #DDD;\n",
              "  }\n",
              "\n",
              "  [theme=dark] .colab-df-quickchart {\n",
              "      --bg-color: #3B4455;\n",
              "      --fill-color: #D2E3FC;\n",
              "      --hover-bg-color: #434B5C;\n",
              "      --hover-fill-color: #FFFFFF;\n",
              "      --disabled-bg-color: #3B4455;\n",
              "      --disabled-fill-color: #666;\n",
              "  }\n",
              "\n",
              "  .colab-df-quickchart {\n",
              "    background-color: var(--bg-color);\n",
              "    border: none;\n",
              "    border-radius: 50%;\n",
              "    cursor: pointer;\n",
              "    display: none;\n",
              "    fill: var(--fill-color);\n",
              "    height: 32px;\n",
              "    padding: 0;\n",
              "    width: 32px;\n",
              "  }\n",
              "\n",
              "  .colab-df-quickchart:hover {\n",
              "    background-color: var(--hover-bg-color);\n",
              "    box-shadow: 0 1px 2px rgba(60, 64, 67, 0.3), 0 1px 3px 1px rgba(60, 64, 67, 0.15);\n",
              "    fill: var(--button-hover-fill-color);\n",
              "  }\n",
              "\n",
              "  .colab-df-quickchart-complete:disabled,\n",
              "  .colab-df-quickchart-complete:disabled:hover {\n",
              "    background-color: var(--disabled-bg-color);\n",
              "    fill: var(--disabled-fill-color);\n",
              "    box-shadow: none;\n",
              "  }\n",
              "\n",
              "  .colab-df-spinner {\n",
              "    border: 2px solid var(--fill-color);\n",
              "    border-color: transparent;\n",
              "    border-bottom-color: var(--fill-color);\n",
              "    animation:\n",
              "      spin 1s steps(1) infinite;\n",
              "  }\n",
              "\n",
              "  @keyframes spin {\n",
              "    0% {\n",
              "      border-color: transparent;\n",
              "      border-bottom-color: var(--fill-color);\n",
              "      border-left-color: var(--fill-color);\n",
              "    }\n",
              "    20% {\n",
              "      border-color: transparent;\n",
              "      border-left-color: var(--fill-color);\n",
              "      border-top-color: var(--fill-color);\n",
              "    }\n",
              "    30% {\n",
              "      border-color: transparent;\n",
              "      border-left-color: var(--fill-color);\n",
              "      border-top-color: var(--fill-color);\n",
              "      border-right-color: var(--fill-color);\n",
              "    }\n",
              "    40% {\n",
              "      border-color: transparent;\n",
              "      border-right-color: var(--fill-color);\n",
              "      border-top-color: var(--fill-color);\n",
              "    }\n",
              "    60% {\n",
              "      border-color: transparent;\n",
              "      border-right-color: var(--fill-color);\n",
              "    }\n",
              "    80% {\n",
              "      border-color: transparent;\n",
              "      border-right-color: var(--fill-color);\n",
              "      border-bottom-color: var(--fill-color);\n",
              "    }\n",
              "    90% {\n",
              "      border-color: transparent;\n",
              "      border-bottom-color: var(--fill-color);\n",
              "    }\n",
              "  }\n",
              "</style>\n",
              "\n",
              "  <script>\n",
              "    async function quickchart(key) {\n",
              "      const quickchartButtonEl =\n",
              "        document.querySelector('#' + key + ' button');\n",
              "      quickchartButtonEl.disabled = true;  // To prevent multiple clicks.\n",
              "      quickchartButtonEl.classList.add('colab-df-spinner');\n",
              "      try {\n",
              "        const charts = await google.colab.kernel.invokeFunction(\n",
              "            'suggestCharts', [key], {});\n",
              "      } catch (error) {\n",
              "        console.error('Error during call to suggestCharts:', error);\n",
              "      }\n",
              "      quickchartButtonEl.classList.remove('colab-df-spinner');\n",
              "      quickchartButtonEl.classList.add('colab-df-quickchart-complete');\n",
              "    }\n",
              "    (() => {\n",
              "      let quickchartButtonEl =\n",
              "        document.querySelector('#df-188a9c1e-e50b-4f02-a555-b4f8a5d955be button');\n",
              "      quickchartButtonEl.style.display =\n",
              "        google.colab.kernel.accessAllowed ? 'block' : 'none';\n",
              "    })();\n",
              "  </script>\n",
              "</div>\n",
              "\n",
              "  <div id=\"id_2121adf5-04f3-48e9-bdb6-6558bcc1d536\">\n",
              "    <style>\n",
              "      .colab-df-generate {\n",
              "        background-color: #E8F0FE;\n",
              "        border: none;\n",
              "        border-radius: 50%;\n",
              "        cursor: pointer;\n",
              "        display: none;\n",
              "        fill: #1967D2;\n",
              "        height: 32px;\n",
              "        padding: 0 0 0 0;\n",
              "        width: 32px;\n",
              "      }\n",
              "\n",
              "      .colab-df-generate:hover {\n",
              "        background-color: #E2EBFA;\n",
              "        box-shadow: 0px 1px 2px rgba(60, 64, 67, 0.3), 0px 1px 3px 1px rgba(60, 64, 67, 0.15);\n",
              "        fill: #174EA6;\n",
              "      }\n",
              "\n",
              "      [theme=dark] .colab-df-generate {\n",
              "        background-color: #3B4455;\n",
              "        fill: #D2E3FC;\n",
              "      }\n",
              "\n",
              "      [theme=dark] .colab-df-generate:hover {\n",
              "        background-color: #434B5C;\n",
              "        box-shadow: 0px 1px 3px 1px rgba(0, 0, 0, 0.15);\n",
              "        filter: drop-shadow(0px 1px 2px rgba(0, 0, 0, 0.3));\n",
              "        fill: #FFFFFF;\n",
              "      }\n",
              "    </style>\n",
              "    <button class=\"colab-df-generate\" onclick=\"generateWithVariable('df')\"\n",
              "            title=\"Generate code using this dataframe.\"\n",
              "            style=\"display:none;\">\n",
              "\n",
              "  <svg xmlns=\"http://www.w3.org/2000/svg\" height=\"24px\"viewBox=\"0 0 24 24\"\n",
              "       width=\"24px\">\n",
              "    <path d=\"M7,19H8.4L18.45,9,17,7.55,7,17.6ZM5,21V16.75L18.45,3.32a2,2,0,0,1,2.83,0l1.4,1.43a1.91,1.91,0,0,1,.58,1.4,1.91,1.91,0,0,1-.58,1.4L9.25,21ZM18.45,9,17,7.55Zm-12,3A5.31,5.31,0,0,0,4.9,8.1,5.31,5.31,0,0,0,1,6.5,5.31,5.31,0,0,0,4.9,4.9,5.31,5.31,0,0,0,6.5,1,5.31,5.31,0,0,0,8.1,4.9,5.31,5.31,0,0,0,12,6.5,5.46,5.46,0,0,0,6.5,12Z\"/>\n",
              "  </svg>\n",
              "    </button>\n",
              "    <script>\n",
              "      (() => {\n",
              "      const buttonEl =\n",
              "        document.querySelector('#id_2121adf5-04f3-48e9-bdb6-6558bcc1d536 button.colab-df-generate');\n",
              "      buttonEl.style.display =\n",
              "        google.colab.kernel.accessAllowed ? 'block' : 'none';\n",
              "\n",
              "      buttonEl.onclick = () => {\n",
              "        google.colab.notebook.generateWithVariable('df');\n",
              "      }\n",
              "      })();\n",
              "    </script>\n",
              "  </div>\n",
              "\n",
              "    </div>\n",
              "  </div>\n"
            ],
            "application/vnd.google.colaboratory.intrinsic+json": {
              "type": "dataframe",
              "variable_name": "df"
            }
          },
          "metadata": {},
          "execution_count": 11
        }
      ]
    },
    {
      "cell_type": "code",
      "source": [
        "df.shape #153=68+85    67500=150*150*3"
      ],
      "metadata": {
        "colab": {
          "base_uri": "https://localhost:8080/"
        },
        "id": "LTmbm6b2KPkK",
        "outputId": "45c0ec02-6f03-4923-b7bd-c947191cea3b"
      },
      "execution_count": null,
      "outputs": [
        {
          "output_type": "execute_result",
          "data": {
            "text/plain": [
              "(153, 67500)"
            ]
          },
          "metadata": {},
          "execution_count": 12
        }
      ]
    },
    {
      "cell_type": "code",
      "source": [
        "df['Target']=target_data\n",
        "df.shape"
      ],
      "metadata": {
        "colab": {
          "base_uri": "https://localhost:8080/"
        },
        "id": "TyJrFVuIKSs5",
        "outputId": "f5ccee2c-fc34-4ccb-a449-dc81325f0c6e"
      },
      "execution_count": null,
      "outputs": [
        {
          "output_type": "execute_result",
          "data": {
            "text/plain": [
              "(153, 67501)"
            ]
          },
          "metadata": {},
          "execution_count": 13
        }
      ]
    },
    {
      "cell_type": "markdown",
      "source": [
        "Splitting x and y"
      ],
      "metadata": {
        "id": "gFbIXVY5LhGn"
      }
    },
    {
      "cell_type": "code",
      "source": [
        "x=df.iloc[:,:-1].values\n",
        "x"
      ],
      "metadata": {
        "colab": {
          "base_uri": "https://localhost:8080/"
        },
        "id": "wBAcmkyHLY8J",
        "outputId": "810c5490-8df1-475e-80a1-15d5e7b232a3"
      },
      "execution_count": null,
      "outputs": [
        {
          "output_type": "execute_result",
          "data": {
            "text/plain": [
              "array([[0.47829514, 0.47437357, 0.49790298, ..., 0.54186833, 0.50657421,\n",
              "        0.51049578],\n",
              "       [0.74680098, 0.66483396, 0.5706102 , ..., 0.57267973, 0.51340612,\n",
              "        0.48596613],\n",
              "       [0.03944343, 0.0355384 , 0.01525794, ..., 0.15535502, 0.15535502,\n",
              "        0.1082962 ],\n",
              "       ...,\n",
              "       [0.19799776, 0.20107267, 0.1425542 , ..., 0.40037223, 0.30579471,\n",
              "        0.24882438],\n",
              "       [0.56260885, 0.46606989, 0.25318399, ..., 0.39357094, 0.37004153,\n",
              "        0.3229827 ],\n",
              "       [0.0087841 , 0.08179658, 0.00334578, ..., 0.37762124, 0.32766867,\n",
              "        0.02075849]])"
            ]
          },
          "metadata": {},
          "execution_count": 15
        }
      ]
    },
    {
      "cell_type": "code",
      "source": [
        "y=df.iloc[:,-1].values\n",
        "y"
      ],
      "metadata": {
        "colab": {
          "base_uri": "https://localhost:8080/"
        },
        "id": "C8Y5nom6LlQE",
        "outputId": "ab39a9bc-f3c0-4fe9-85cb-a967963bf38e"
      },
      "execution_count": null,
      "outputs": [
        {
          "output_type": "execute_result",
          "data": {
            "text/plain": [
              "array([0, 0, 0, 0, 0, 0, 0, 0, 0, 0, 0, 0, 0, 0, 0, 0, 0, 0, 0, 0, 0, 0,\n",
              "       0, 0, 0, 0, 0, 0, 0, 0, 0, 0, 0, 0, 0, 0, 0, 0, 0, 0, 0, 0, 0, 0,\n",
              "       0, 0, 0, 0, 0, 0, 0, 0, 0, 0, 0, 0, 0, 0, 0, 0, 0, 0, 0, 0, 0, 0,\n",
              "       0, 0, 0, 0, 0, 0, 0, 0, 0, 0, 0, 0, 0, 0, 0, 0, 0, 0, 0, 1, 1, 1,\n",
              "       1, 1, 1, 1, 1, 1, 1, 1, 1, 1, 1, 1, 1, 1, 1, 1, 1, 1, 1, 1, 1, 1,\n",
              "       1, 1, 1, 1, 1, 1, 1, 1, 1, 1, 1, 1, 1, 1, 1, 1, 1, 1, 1, 1, 1, 1,\n",
              "       1, 1, 1, 1, 1, 1, 1, 1, 1, 1, 1, 1, 1, 1, 1, 1, 1, 1, 1, 1, 1])"
            ]
          },
          "metadata": {},
          "execution_count": 16
        }
      ]
    },
    {
      "cell_type": "code",
      "source": [
        "from sklearn.model_selection import train_test_split\n",
        "x_train,x_test,y_train,y_test=train_test_split(x,y,test_size=0.30,random_state=42)\n",
        "x_train"
      ],
      "metadata": {
        "colab": {
          "base_uri": "https://localhost:8080/"
        },
        "id": "iy4Pre9NLpkX",
        "outputId": "74f201d8-b48e-4e18-86ff-9909bf583607"
      },
      "execution_count": null,
      "outputs": [
        {
          "output_type": "execute_result",
          "data": {
            "text/plain": [
              "array([[0.05863629, 0.11670326, 0.18192382, ..., 0.40804391, 0.31392626,\n",
              "        0.20479499],\n",
              "       [0.84878496, 0.82525555, 0.77819672, ..., 0.84478071, 0.81986949,\n",
              "        0.70555633],\n",
              "       [0.28247995, 0.1765976 , 0.14914662, ..., 0.54534295, 0.58101679,\n",
              "        0.62200242],\n",
              "       ...,\n",
              "       [0.63296216, 0.49178569, 0.4290406 , ..., 0.610482  , 0.12481651,\n",
              "        0.24752336],\n",
              "       [0.16177408, 0.09411126, 0.140884  , ..., 0.10271019, 0.06154931,\n",
              "        0.0712269 ],\n",
              "       [0.56779476, 0.74302232, 0.53662867, ..., 0.26641727, 0.1879859 ,\n",
              "        0.18406433]])"
            ]
          },
          "metadata": {},
          "execution_count": 17
        }
      ]
    },
    {
      "cell_type": "code",
      "source": [
        "x_test"
      ],
      "metadata": {
        "colab": {
          "base_uri": "https://localhost:8080/"
        },
        "id": "OXW3wPimL7uU",
        "outputId": "5a753e46-262c-432c-de78-9cc4f57b8cc9"
      },
      "execution_count": null,
      "outputs": [
        {
          "output_type": "execute_result",
          "data": {
            "text/plain": [
              "array([[0.40836579, 0.37699324, 0.33385599, ..., 0.85035797, 0.7091815 ,\n",
              "        0.16581395],\n",
              "       [0.11764706, 0.12548947, 0.11683148, ..., 0.15036089, 0.21702755,\n",
              "        0.24447854],\n",
              "       [0.62360928, 0.76723003, 0.75071565, ..., 0.39211864, 0.32680695,\n",
              "        0.20450557],\n",
              "       ...,\n",
              "       [0.37947203, 0.52849241, 0.19430685, ..., 0.34117588, 0.559507  ,\n",
              "        0.11743496],\n",
              "       [0.26771534, 0.21675126, 0.14219251, ..., 0.20014238, 0.19229925,\n",
              "        0.14524042],\n",
              "       [0.26884764, 0.27276921, 0.25316136, ..., 0.30075834, 0.22624853,\n",
              "        0.167425  ]])"
            ]
          },
          "metadata": {},
          "execution_count": 18
        }
      ]
    },
    {
      "cell_type": "code",
      "source": [
        "y_train"
      ],
      "metadata": {
        "colab": {
          "base_uri": "https://localhost:8080/"
        },
        "id": "nQYozlUOL9et",
        "outputId": "10f5c85b-49d6-4cbc-f511-0f7cf27ad408"
      },
      "execution_count": null,
      "outputs": [
        {
          "output_type": "execute_result",
          "data": {
            "text/plain": [
              "array([1, 1, 1, 0, 1, 0, 0, 1, 1, 0, 0, 1, 1, 0, 0, 0, 1, 0, 0, 1, 0, 0,\n",
              "       1, 0, 1, 1, 0, 1, 1, 0, 0, 1, 1, 0, 0, 1, 0, 0, 1, 1, 0, 0, 0, 0,\n",
              "       0, 1, 0, 0, 0, 1, 1, 0, 1, 1, 1, 0, 0, 1, 1, 0, 0, 0, 0, 1, 0, 1,\n",
              "       1, 0, 0, 0, 1, 0, 1, 0, 1, 0, 1, 0, 0, 1, 0, 1, 0, 0, 1, 0, 0, 1,\n",
              "       1, 0, 1, 0, 0, 1, 1, 1, 1, 1, 0, 1, 1, 0, 0, 1, 0, 1, 1])"
            ]
          },
          "metadata": {},
          "execution_count": 19
        }
      ]
    },
    {
      "cell_type": "code",
      "source": [
        "y_test"
      ],
      "metadata": {
        "colab": {
          "base_uri": "https://localhost:8080/"
        },
        "id": "TG3-JYfdL_TR",
        "outputId": "fbb1aed7-4446-4cc9-f486-ae01fbf724b8"
      },
      "execution_count": null,
      "outputs": [
        {
          "output_type": "execute_result",
          "data": {
            "text/plain": [
              "array([0, 1, 1, 1, 0, 1, 0, 0, 0, 0, 0, 0, 0, 0, 0, 0, 1, 1, 0, 1, 0, 1,\n",
              "       0, 0, 0, 0, 0, 1, 1, 0, 1, 1, 0, 0, 0, 0, 0, 1, 1, 1, 0, 0, 1, 1,\n",
              "       0, 0])"
            ]
          },
          "metadata": {},
          "execution_count": 20
        }
      ]
    },
    {
      "cell_type": "code",
      "source": [
        "from sklearn.svm import SVC\n",
        "model=SVC()\n",
        "model.fit(x_train,y_train)\n",
        "y_pred=model.predict(x_test)\n",
        "y_pred"
      ],
      "metadata": {
        "colab": {
          "base_uri": "https://localhost:8080/"
        },
        "id": "lROHAErOMBlN",
        "outputId": "8ba6b102-ac4e-4867-9ee4-bb386e006621"
      },
      "execution_count": null,
      "outputs": [
        {
          "output_type": "execute_result",
          "data": {
            "text/plain": [
              "array([0, 1, 1, 1, 0, 0, 1, 0, 0, 0, 1, 1, 0, 1, 1, 0, 1, 0, 0, 0, 1, 0,\n",
              "       0, 1, 0, 0, 1, 1, 1, 0, 0, 1, 0, 0, 0, 1, 1, 0, 1, 0, 0, 0, 1, 1,\n",
              "       0, 1])"
            ]
          },
          "metadata": {},
          "execution_count": 21
        }
      ]
    },
    {
      "cell_type": "code",
      "source": [
        "from sklearn.metrics import confusion_matrix,accuracy_score\n",
        "score=accuracy_score(y_test,y_pred)\n",
        "score        #accuracy is less due to less size of training and testing data"
      ],
      "metadata": {
        "colab": {
          "base_uri": "https://localhost:8080/"
        },
        "id": "WZauFkkjMajg",
        "outputId": "bb29af40-1d6c-414d-cc1b-811e53587dbc"
      },
      "execution_count": null,
      "outputs": [
        {
          "output_type": "execute_result",
          "data": {
            "text/plain": [
              "0.6086956521739131"
            ]
          },
          "metadata": {},
          "execution_count": 22
        }
      ]
    },
    {
      "cell_type": "code",
      "source": [
        "matrix=confusion_matrix(y_test,y_pred)\n",
        "matrix"
      ],
      "metadata": {
        "colab": {
          "base_uri": "https://localhost:8080/"
        },
        "id": "-BV39D9IMuG5",
        "outputId": "fe2c79e6-a0de-4b22-abba-aed1cd8457b9"
      },
      "execution_count": null,
      "outputs": [
        {
          "output_type": "execute_result",
          "data": {
            "text/plain": [
              "array([[18, 11],\n",
              "       [ 7, 10]])"
            ]
          },
          "metadata": {},
          "execution_count": 23
        }
      ]
    },
    {
      "cell_type": "code",
      "source": [
        "path1='/content/cat_1.jpg'\n",
        "img1=imread(path1)   #to read image\n",
        "img1=resize(img1,(150,150,3)).flatten().reshape(1,-1)   #resizing,change to 1D,reshaping\n",
        "model.predict(img1)"
      ],
      "metadata": {
        "colab": {
          "base_uri": "https://localhost:8080/"
        },
        "id": "CByne28mM2eR",
        "outputId": "1ed2e411-9e13-4394-ca64-9bcd325ed106"
      },
      "execution_count": null,
      "outputs": [
        {
          "output_type": "execute_result",
          "data": {
            "text/plain": [
              "array([0])"
            ]
          },
          "metadata": {},
          "execution_count": 27
        }
      ]
    },
    {
      "cell_type": "code",
      "source": [
        "path2='/content/dog_2.jpg'\n",
        "img2=imread(path2)\n",
        "img2=resize(img2,(150,150,3)).flatten().reshape(1,-1)\n",
        "model.predict(img2)"
      ],
      "metadata": {
        "colab": {
          "base_uri": "https://localhost:8080/"
        },
        "id": "6qlWaIzmPiHm",
        "outputId": "1874a1fb-8dea-4b94-c746-09d78acd2054"
      },
      "execution_count": null,
      "outputs": [
        {
          "output_type": "execute_result",
          "data": {
            "text/plain": [
              "array([1])"
            ]
          },
          "metadata": {},
          "execution_count": 29
        }
      ]
    }
  ]
}